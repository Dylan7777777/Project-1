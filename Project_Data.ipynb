{
 "cells": [
  {
   "cell_type": "code",
   "execution_count": 11,
   "id": "92de8b7a",
   "metadata": {},
   "outputs": [],
   "source": [
    "!pip install fredapi -q\n",
    "!pip install kaggle -q\n",
    "\n",
    "\n",
    "\n"
   ]
  },
  {
   "cell_type": "code",
   "execution_count": 6,
   "id": "aaba37d6",
   "metadata": {
    "scrolled": true
   },
   "outputs": [
    {
     "name": "stdout",
     "output_type": "stream",
     "text": [
      ".kaggle directory already exists.\n"
     ]
    }
   ],
   "source": [
    "#Creating a kaggle folder in root dir\n",
    "import os\n",
    "\n",
    "# Define the path to the .kaggle directory\n",
    "kaggle_directory = os.path.join(os.path.expanduser(\"~\"), \".kaggle\")\n",
    "\n",
    "# Create the .kaggle directory\n",
    "try:\n",
    "    os.mkdir(kaggle_directory)\n",
    "    print(\".kaggle directory created successfully.\")\n",
    "except FileExistsError:\n",
    "    print(\".kaggle directory already exists.\")\n",
    "except Exception as e:\n",
    "    print(\"Error creating .kaggle directory:\", e)\n"
   ]
  },
  {
   "cell_type": "code",
   "execution_count": 13,
   "id": "3a9f323e",
   "metadata": {},
   "outputs": [],
   "source": [
    "# Import Dependencies\n",
    "import fredapi as fa\n",
    "import pandas as pd\n",
    "import matplotlib.pyplot as plt\n",
    "# Import the Fred API key\n",
    "#import kaggle\n",
    "import kaggle\n"
   ]
  },
  {
   "cell_type": "code",
   "execution_count": 14,
   "id": "9240398c",
   "metadata": {},
   "outputs": [
    {
     "name": "stdout",
     "output_type": "stream",
     "text": [
      "File copied successfully.\n"
     ]
    }
   ],
   "source": [
    "import subprocess\n",
    "\n",
    "# Replace 'Isaac Technology' with your actual Windows username if needed\n",
    "source_path = r'C:\\Users\\Isaac Technology\\Downloads\\kaggle.json'\n",
    "destination_path = r'C:\\Users\\Isaac Technology\\kaggle.json'\n",
    "\n",
    "try:\n",
    "    subprocess.run(['copy', source_path, destination_path], shell=True, check=True)\n",
    "    print(\"File copied successfully.\")\n",
    "except subprocess.CalledProcessError as e:\n",
    "    print(f\"Error while copying the file: {e}\")\n"
   ]
  },
  {
   "cell_type": "code",
   "execution_count": 15,
   "id": "2e28f825",
   "metadata": {},
   "outputs": [],
   "source": [
    "# Import the Fred API key\n",
    "#from Config_fred_api import api_key\n",
    "fred_api_key = \"33712713d4434460be0b9c2287048352\"\n",
    "\n",
    "# Initialize the Fred API client with the API key\n",
    "fred = fa.Fred(fred_api_key)\n"
   ]
  },
  {
   "cell_type": "code",
   "execution_count": 16,
   "id": "f28b94bd",
   "metadata": {},
   "outputs": [
    {
     "data": {
      "text/plain": [
       "<bound method NDFrame.tail of 1987-01-01     54.206479\n",
       "1987-02-01     55.227274\n",
       "1987-03-01     54.811034\n",
       "1987-04-01     54.801947\n",
       "1987-05-01     55.477466\n",
       "                 ...    \n",
       "2022-12-01    184.446668\n",
       "2023-01-01    184.600190\n",
       "2023-02-01    185.328659\n",
       "2023-03-01    186.948330\n",
       "2023-04-01    188.603684\n",
       "Name: Chicago_Home_Price_Index, Length: 436, dtype: float64>"
      ]
     },
     "execution_count": 16,
     "metadata": {},
     "output_type": "execute_result"
    }
   ],
   "source": [
    "Chicago_Home_Price_Index = fred.get_series('CHXRSA') \n",
    "Chicago_Home_Price_Index.name = 'Chicago_Home_Price_Index'\n",
    "Chicago_Home_Price_Index.tail\n",
    "\n"
   ]
  },
  {
   "cell_type": "code",
   "execution_count": 17,
   "id": "41145cb2",
   "metadata": {},
   "outputs": [
    {
     "data": {
      "text/plain": [
       "<bound method NDFrame.head of 2001-01-01    401407.693\n",
       "2002-01-01    411155.211\n",
       "2003-01-01    425385.586\n",
       "2004-01-01    449004.156\n",
       "2005-01-01    472993.552\n",
       "2006-01-01    500969.502\n",
       "2007-01-01    523165.163\n",
       "2008-01-01    520597.015\n",
       "2009-01-01    510758.958\n",
       "2010-01-01    523098.041\n",
       "2011-01-01    542384.780\n",
       "2012-01-01    570954.874\n",
       "2013-01-01    583070.720\n",
       "2014-01-01    609478.180\n",
       "2015-01-01    636938.865\n",
       "2016-01-01    647455.652\n",
       "2017-01-01    665476.512\n",
       "2018-01-01    700534.917\n",
       "2019-01-01    720832.051\n",
       "2020-01-01    692890.912\n",
       "2021-01-01    764583.227\n",
       "Name: GDP_Chicago, dtype: float64>"
      ]
     },
     "execution_count": 17,
     "metadata": {},
     "output_type": "execute_result"
    }
   ],
   "source": [
    "#Total Gross Domestic Product for Chicago-Naperville-Elgin, IL-IN-WI (MSA) (NGMP16980)\n",
    "#\n",
    "GDP_Chicago = fred.get_series('NGMP16980')\n",
    "GDP_Chicago.name = 'GDP_Chicago'\n",
    "GDP_Chicago.head\n"
   ]
  },
  {
   "cell_type": "code",
   "execution_count": 18,
   "id": "a1dc6538",
   "metadata": {},
   "outputs": [
    {
     "data": {
      "text/plain": [
       "<bound method NDFrame.head of 1990-01-01    6.9\n",
       "1990-02-01    6.6\n",
       "1990-03-01    6.3\n",
       "1990-04-01    6.5\n",
       "1990-05-01    6.1\n",
       "             ... \n",
       "2023-01-01    4.7\n",
       "2023-02-01    4.4\n",
       "2023-03-01    4.3\n",
       "2023-04-01    3.4\n",
       "2023-05-01    3.5\n",
       "Name: Unemployment_Rate_Chicago, Length: 401, dtype: float64>"
      ]
     },
     "execution_count": 18,
     "metadata": {},
     "output_type": "execute_result"
    }
   ],
   "source": [
    "#Unemployment Rate in Chicago-Naperville-Elgin, IL-IN-WI (MSA) (CHIC917URN)\n",
    "Unemployment_Rate_Chicago = fred.get_series('CHIC917URN')\n",
    "Unemployment_Rate_Chicago.name ='Unemployment_Rate_Chicago'\n",
    "Unemployment_Rate_Chicago.head"
   ]
  },
  {
   "cell_type": "code",
   "execution_count": 19,
   "id": "0cb64f7a",
   "metadata": {},
   "outputs": [
    {
     "data": {
      "text/plain": [
       "<bound method NDFrame.head of 1972-01-01     1.40\n",
       "1973-01-01     1.40\n",
       "1974-01-01     1.40\n",
       "1975-01-01     1.40\n",
       "1976-01-01     2.10\n",
       "1977-01-01     2.10\n",
       "1978-01-01     2.10\n",
       "1979-01-01     2.30\n",
       "1980-01-01     2.30\n",
       "1981-01-01     2.30\n",
       "1982-01-01     2.30\n",
       "1983-01-01     2.30\n",
       "1984-01-01     2.30\n",
       "1985-01-01     2.30\n",
       "1986-01-01     2.30\n",
       "1987-01-01     2.30\n",
       "1988-01-01     2.30\n",
       "1989-01-01     2.30\n",
       "1990-01-01     2.30\n",
       "1991-01-01     3.80\n",
       "1992-01-01     4.25\n",
       "1993-01-01     4.25\n",
       "1994-01-01     4.25\n",
       "1995-01-01     4.25\n",
       "1996-01-01     4.25\n",
       "1997-01-01     4.75\n",
       "1998-01-01     5.15\n",
       "1999-01-01     5.15\n",
       "2000-01-01     5.15\n",
       "2001-01-01     5.15\n",
       "2002-01-01     5.15\n",
       "2003-01-01     5.15\n",
       "2004-01-01     5.50\n",
       "2005-01-01     6.50\n",
       "2006-01-01     6.50\n",
       "2007-01-01     6.50\n",
       "2008-01-01     7.50\n",
       "2009-01-01     7.75\n",
       "2010-01-01     8.00\n",
       "2011-01-01     8.25\n",
       "2012-01-01     8.25\n",
       "2013-01-01     8.25\n",
       "2014-01-01     8.25\n",
       "2015-01-01     8.25\n",
       "2016-01-01     8.25\n",
       "2017-01-01     8.25\n",
       "2018-01-01     8.25\n",
       "2019-01-01     8.25\n",
       "2020-01-01    10.00\n",
       "2021-01-01    11.00\n",
       "2022-01-01    12.00\n",
       "2023-01-01    13.00\n",
       "Name: Minimum_Wage_Illinois, dtype: float64>"
      ]
     },
     "execution_count": 19,
     "metadata": {},
     "output_type": "execute_result"
    }
   ],
   "source": [
    "# State Minimum Wage Rate for Illinois (STTMINWGIL)\n",
    "Minimum_Wage_Illinois = fred.get_series('STTMINWGIL')\n",
    "Minimum_Wage_Illinois.name = 'Minimum_Wage_Illinois'\n",
    "Minimum_Wage_Illinois.head"
   ]
  },
  {
   "cell_type": "code",
   "execution_count": 20,
   "id": "fa7e87ad",
   "metadata": {},
   "outputs": [
    {
     "data": {
      "text/plain": [
       "<bound method NDFrame.head of 1975-01-01     66.58\n",
       "1975-04-01     62.20\n",
       "1975-07-01     64.05\n",
       "1975-10-01     66.68\n",
       "1976-01-01     67.78\n",
       "               ...  \n",
       "2022-01-01    419.89\n",
       "2022-04-01    446.38\n",
       "2022-07-01    451.68\n",
       "2022-10-01    445.74\n",
       "2023-01-01    448.22\n",
       "Name: House_Price_Index_Illinois, Length: 193, dtype: float64>"
      ]
     },
     "execution_count": 20,
     "metadata": {},
     "output_type": "execute_result"
    }
   ],
   "source": [
    "#All-Transactions House Price Index for Illinois (ILSTHPI)\n",
    "House_Price_Index_Illinois =fred.get_series('ILSTHPI')\n",
    "House_Price_Index_Illinois.name ='House_Price_Index_Illinois'\n",
    "House_Price_Index_Illinois.head"
   ]
  },
  {
   "cell_type": "code",
   "execution_count": 21,
   "id": "47aef974",
   "metadata": {},
   "outputs": [
    {
     "data": {
      "text/plain": [
       "<bound method NDFrame.head of 2005-01-01     582315.2\n",
       "2005-04-01     585846.2\n",
       "2005-07-01     593681.0\n",
       "2005-10-01     597405.0\n",
       "2006-01-01     615033.8\n",
       "                ...    \n",
       "2022-01-01    1009986.4\n",
       "2022-04-01    1024018.9\n",
       "2022-07-01    1041662.8\n",
       "2022-10-01    1057572.3\n",
       "2023-01-01    1071551.5\n",
       "Name: GDP_Total_Illinois, Length: 73, dtype: float64>"
      ]
     },
     "execution_count": 21,
     "metadata": {},
     "output_type": "execute_result"
    }
   ],
   "source": [
    "#Gross Domestic Product: All Industry Total in Illinois (ILNQGSP)\n",
    "GDP_Total_Illinois = fred.get_series('ILNQGSP')\n",
    "GDP_Total_Illinois.name = 'GDP_Total_Illinois'\n",
    "GDP_Total_Illinois.head"
   ]
  },
  {
   "cell_type": "code",
   "execution_count": 22,
   "id": "c7158e5c",
   "metadata": {},
   "outputs": [
    {
     "data": {
      "text/plain": [
       "<bound method NDFrame.head of 1900-01-01     4828.000\n",
       "1901-01-01     4914.000\n",
       "1902-01-01     4992.000\n",
       "1903-01-01     5071.000\n",
       "1904-01-01     5161.000\n",
       "                ...    \n",
       "2018-01-01    12724.685\n",
       "2019-01-01    12667.017\n",
       "2020-01-01    12786.580\n",
       "2021-01-01    12686.469\n",
       "2022-01-01    12582.032\n",
       "Name: Resident_Population_Illinois, Length: 123, dtype: float64>"
      ]
     },
     "execution_count": 22,
     "metadata": {},
     "output_type": "execute_result"
    }
   ],
   "source": [
    "#Resident Population in Illinois (ILPOP)\n",
    "Resident_Population_Illinois = fred.get_series('ILPOP')\n",
    "Resident_Population_Illinois.name = 'Resident_Population_Illinois'\n",
    "Resident_Population_Illinois.head"
   ]
  },
  {
   "cell_type": "code",
   "execution_count": 23,
   "id": "7fbd0c04",
   "metadata": {},
   "outputs": [
    {
     "data": {
      "text/plain": [
       "<bound method NDFrame.head of             Resident_Population_Illinois  GDP_Total_Illinois  \\\n",
       "2005-01-01                     12609.903            582315.2   \n",
       "2006-01-01                     12643.955            615033.8   \n",
       "2007-01-01                     12695.866            640898.7   \n",
       "2008-01-01                     12747.038            650988.6   \n",
       "2009-01-01                     12796.778            646138.9   \n",
       "2010-01-01                     12840.545            652523.5   \n",
       "2011-01-01                     12867.783            680955.8   \n",
       "2012-01-01                     12883.029            721011.3   \n",
       "2013-01-01                     12895.778            737708.8   \n",
       "2014-01-01                     12885.092            751153.3   \n",
       "2015-01-01                     12859.585            790762.1   \n",
       "2016-01-01                     12821.709            800575.2   \n",
       "2017-01-01                     12779.893            813314.9   \n",
       "2018-01-01                     12724.685            852709.2   \n",
       "2019-01-01                     12667.017            880781.3   \n",
       "2020-01-01                     12786.580            880974.3   \n",
       "2021-01-01                     12686.469            910042.6   \n",
       "2022-01-01                     12582.032           1009986.4   \n",
       "\n",
       "            House_Price_Index_Illinois  Minimum_Wage_Illinois  \n",
       "2005-01-01                      334.74                   6.50  \n",
       "2006-01-01                      360.82                   6.50  \n",
       "2007-01-01                      372.70                   6.50  \n",
       "2008-01-01                      368.09                   7.50  \n",
       "2009-01-01                      345.86                   7.75  \n",
       "2010-01-01                      316.91                   8.00  \n",
       "2011-01-01                      303.59                   8.25  \n",
       "2012-01-01                      295.59                   8.25  \n",
       "2013-01-01                      293.32                   8.25  \n",
       "2014-01-01                      297.62                   8.25  \n",
       "2015-01-01                      311.96                   8.25  \n",
       "2016-01-01                      318.66                   8.25  \n",
       "2017-01-01                      327.11                   8.25  \n",
       "2018-01-01                      337.54                   8.25  \n",
       "2019-01-01                      343.34                   8.25  \n",
       "2020-01-01                      354.98                  10.00  \n",
       "2021-01-01                      369.49                  11.00  \n",
       "2022-01-01                      419.89                  12.00  >"
      ]
     },
     "execution_count": 23,
     "metadata": {},
     "output_type": "execute_result"
    }
   ],
   "source": [
    "# Merge Resident_Population_Illinois and GDP_Total_Illinois on their common index\n",
    "df_merge_Illinois = pd.merge(Resident_Population_Illinois, GDP_Total_Illinois, left_index=True, right_index=True)\n",
    "\n",
    "# Merge House_Price_Index_Illinois with the previous merged DataFrame\n",
    "df_merge_Illinois = pd.merge(df_merge_Illinois, House_Price_Index_Illinois, left_index=True, right_index=True)\n",
    "\n",
    "# Merge Minimum_Wage_Illinois with the previously merged DataFrame\n",
    "df_merge_Illinois = pd.merge(df_merge_Illinois, Minimum_Wage_Illinois, left_index=True, right_index=True)\n",
    "df_merge_Illinois.head"
   ]
  },
  {
   "cell_type": "code",
   "execution_count": 24,
   "id": "450cc799",
   "metadata": {},
   "outputs": [
    {
     "name": "stdout",
     "output_type": "stream",
     "text": [
      "Number of rows: 18\n",
      "Number of columns: 4\n"
     ]
    }
   ],
   "source": [
    "# To get the number of rows and columns in the DataFrame\n",
    "num_rows, num_columns = df_merge_Illinois.shape\n",
    "\n",
    "print(\"Number of rows:\", num_rows)\n",
    "print(\"Number of columns:\", num_columns)"
   ]
  },
  {
   "cell_type": "code",
   "execution_count": 25,
   "id": "d4ad0e08",
   "metadata": {},
   "outputs": [
    {
     "data": {
      "text/plain": [
       "<bound method NDFrame.head of           status      price   bed  bath  acre_lot  \\\n",
       "0       for_sale   105000.0   3.0   2.0      0.12   \n",
       "1       for_sale    80000.0   4.0   2.0      0.08   \n",
       "2       for_sale    67000.0   2.0   1.0      0.15   \n",
       "3       for_sale   145000.0   4.0   2.0      0.10   \n",
       "4       for_sale    65000.0   6.0   2.0      0.05   \n",
       "...          ...        ...   ...   ...       ...   \n",
       "613154  for_sale   429000.0   6.0   3.0      0.12   \n",
       "613155  for_sale  1095000.0   5.0   5.0      0.24   \n",
       "613156  for_sale  1500000.0   6.0   3.0      3.97   \n",
       "613157  for_sale   550000.0  11.0   3.0      0.28   \n",
       "613158  for_sale   375000.0   7.0   5.0       NaN   \n",
       "\n",
       "                                             full_address  \\\n",
       "0       Sector Yahuecas Titulo # V84, Adjuntas, PR, 00601   \n",
       "1                 Km 78 9 Carr # 135, Adjuntas, PR, 00601   \n",
       "2                 556G 556-G 16 St, Juana Diaz, PR, 00795   \n",
       "3       R5 Comunidad El Paraso Calle De Oro R-5 Ponce,...   \n",
       "4                         14 Navarro, Mayaguez, PR, 00680   \n",
       "...                                                   ...   \n",
       "613154           556 Walnut St, Elizabeth City, NJ, 07201   \n",
       "613155             386 Page Ave, Staten Island, NY, 10307   \n",
       "613156        84 Hillcrest Rd, Bridgewater Twp, NJ, 08836   \n",
       "613157             25 Chestnut St, East Orange, NJ, 07018   \n",
       "613158               196 Astoria Pl, Union Twp, NJ, 07083   \n",
       "\n",
       "                                               street             city  \\\n",
       "0                        Sector Yahuecas Titulo # V84         Adjuntas   \n",
       "1                                  Km 78 9 Carr # 135         Adjuntas   \n",
       "2                                    556G 556-G 16 St       Juana Diaz   \n",
       "3       R5 Comunidad El Paraso Calle De Oro R-5 Ponce            Ponce   \n",
       "4                                          14 Navarro         Mayaguez   \n",
       "...                                               ...              ...   \n",
       "613154                                  556 Walnut St   Elizabeth City   \n",
       "613155                                   386 Page Ave    Staten Island   \n",
       "613156                                84 Hillcrest Rd  Bridgewater Twp   \n",
       "613157                                 25 Chestnut St      East Orange   \n",
       "613158                                 196 Astoria Pl        Union Twp   \n",
       "\n",
       "              state  zip_code  house_size   sold_date  \n",
       "0       Puerto Rico     601.0       920.0         NaN  \n",
       "1       Puerto Rico     601.0      1527.0         NaN  \n",
       "2       Puerto Rico     795.0       748.0         NaN  \n",
       "3       Puerto Rico     731.0      1800.0         NaN  \n",
       "4       Puerto Rico     680.0         NaN         NaN  \n",
       "...             ...       ...         ...         ...  \n",
       "613154   New Jersey    7201.0         NaN  2019-09-10  \n",
       "613155     New York   10307.0      3140.0  2008-06-16  \n",
       "613156   New Jersey    8836.0      3994.0         NaN  \n",
       "613157   New Jersey    7018.0         NaN  2019-01-07  \n",
       "613158   New Jersey    7083.0         NaN  2003-07-09  \n",
       "\n",
       "[613159 rows x 12 columns]>"
      ]
     },
     "execution_count": 25,
     "metadata": {},
     "output_type": "execute_result"
    }
   ],
   "source": [
    "df_realtor_data = pd.read_csv('C:\\\\Users\\\\Isaac Technology\\\\Desktop\\\\Data Analytics Boot Camp\\\\Project_1\\\\Project-1\\\\realtor-data.csv')\n",
    "\n",
    "df_realtor_data.head\n"
   ]
  },
  {
   "cell_type": "code",
   "execution_count": null,
   "id": "70d5c456",
   "metadata": {},
   "outputs": [],
   "source": []
  }
 ],
 "metadata": {
  "kernelspec": {
   "display_name": "Python 3 (ipykernel)",
   "language": "python",
   "name": "python3"
  },
  "language_info": {
   "codemirror_mode": {
    "name": "ipython",
    "version": 3
   },
   "file_extension": ".py",
   "mimetype": "text/x-python",
   "name": "python",
   "nbconvert_exporter": "python",
   "pygments_lexer": "ipython3",
   "version": "3.9.12"
  }
 },
 "nbformat": 4,
 "nbformat_minor": 5
}
