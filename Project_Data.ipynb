{
 "cells": [
  {
   "cell_type": "code",
   "execution_count": 1,
   "id": "92de8b7a",
   "metadata": {},
   "outputs": [
    {
     "name": "stdout",
     "output_type": "stream",
     "text": [
      "Defaulting to user installation because normal site-packages is not writeable\n",
      "Requirement already satisfied: fredapi in c:\\users\\isaac technology\\appdata\\roaming\\python\\python39\\site-packages (0.5.0)\n",
      "Requirement already satisfied: pandas in c:\\programdata\\anaconda3\\lib\\site-packages (from fredapi) (1.4.2)\n",
      "Requirement already satisfied: numpy>=1.18.5 in c:\\programdata\\anaconda3\\lib\\site-packages (from pandas->fredapi) (1.21.5)\n",
      "Requirement already satisfied: python-dateutil>=2.8.1 in c:\\programdata\\anaconda3\\lib\\site-packages (from pandas->fredapi) (2.8.2)\n",
      "Requirement already satisfied: pytz>=2020.1 in c:\\programdata\\anaconda3\\lib\\site-packages (from pandas->fredapi) (2021.3)\n",
      "Requirement already satisfied: six>=1.5 in c:\\programdata\\anaconda3\\lib\\site-packages (from python-dateutil>=2.8.1->pandas->fredapi) (1.16.0)\n",
      "Note: you may need to restart the kernel to use updated packages.\n"
     ]
    }
   ],
   "source": [
    "#pip install fredapi\n"
   ]
  },
  {
   "cell_type": "code",
   "execution_count": 5,
   "id": "82959a91",
   "metadata": {},
   "outputs": [],
   "source": [
    "# Import Dependencies\n",
    "import fredapi as fa\n",
    "import pandas as pd\n",
    "import matplotlib.pyplot as plt\n",
    "# Import the Fred API key\n",
    "\n"
   ]
  },
  {
   "cell_type": "code",
   "execution_count": 19,
   "id": "2e28f825",
   "metadata": {},
   "outputs": [],
   "source": [
    "# Import the Fred API key\n",
    "#from Config_fred_api import api_key\n",
    "fred_api_key = \"33712713d4434460be0b9c2287048352\"\n",
    "\n",
    "# Initialize the Fred API client with the API key\n",
    "fred = fa.Fred(fred_api_key)\n"
   ]
  },
  {
   "cell_type": "code",
   "execution_count": 22,
   "id": "f28b94bd",
   "metadata": {},
   "outputs": [
    {
     "data": {
      "text/plain": [
       "<bound method NDFrame.tail of 1987-01-01     54.206479\n",
       "1987-02-01     55.227274\n",
       "1987-03-01     54.811034\n",
       "1987-04-01     54.801947\n",
       "1987-05-01     55.477466\n",
       "                 ...    \n",
       "2022-12-01    184.446668\n",
       "2023-01-01    184.600190\n",
       "2023-02-01    185.328659\n",
       "2023-03-01    186.948330\n",
       "2023-04-01    188.603684\n",
       "Length: 436, dtype: float64>"
      ]
     },
     "execution_count": 22,
     "metadata": {},
     "output_type": "execute_result"
    }
   ],
   "source": [
    "Chicago_Home_Price_Index = fred.get_series('CHXRSA') \n",
    "Chicago_Home_Price_Index.tail"
   ]
  },
  {
   "cell_type": "code",
   "execution_count": 24,
   "id": "41145cb2",
   "metadata": {},
   "outputs": [
    {
     "data": {
      "text/plain": [
       "<bound method NDFrame.head of 2001-01-01    401407.693\n",
       "2002-01-01    411155.211\n",
       "2003-01-01    425385.586\n",
       "2004-01-01    449004.156\n",
       "2005-01-01    472993.552\n",
       "2006-01-01    500969.502\n",
       "2007-01-01    523165.163\n",
       "2008-01-01    520597.015\n",
       "2009-01-01    510758.958\n",
       "2010-01-01    523098.041\n",
       "2011-01-01    542384.780\n",
       "2012-01-01    570954.874\n",
       "2013-01-01    583070.720\n",
       "2014-01-01    609478.180\n",
       "2015-01-01    636938.865\n",
       "2016-01-01    647455.652\n",
       "2017-01-01    665476.512\n",
       "2018-01-01    700534.917\n",
       "2019-01-01    720832.051\n",
       "2020-01-01    692890.912\n",
       "2021-01-01    764583.227\n",
       "dtype: float64>"
      ]
     },
     "execution_count": 24,
     "metadata": {},
     "output_type": "execute_result"
    }
   ],
   "source": [
    "#Total Gross Domestic Product for Chicago-Naperville-Elgin, IL-IN-WI (MSA) (NGMP16980)\n",
    "#\n",
    "GDP_Chicago = fred.get_series('NGMP16980')\n",
    "GDP_Chicago.head"
   ]
  },
  {
   "cell_type": "code",
   "execution_count": 26,
   "id": "a1dc6538",
   "metadata": {},
   "outputs": [
    {
     "data": {
      "text/plain": [
       "<bound method NDFrame.head of 1990-01-01    6.9\n",
       "1990-02-01    6.6\n",
       "1990-03-01    6.3\n",
       "1990-04-01    6.5\n",
       "1990-05-01    6.1\n",
       "             ... \n",
       "2023-01-01    4.7\n",
       "2023-02-01    4.4\n",
       "2023-03-01    4.3\n",
       "2023-04-01    3.4\n",
       "2023-05-01    3.5\n",
       "Length: 401, dtype: float64>"
      ]
     },
     "execution_count": 26,
     "metadata": {},
     "output_type": "execute_result"
    }
   ],
   "source": [
    "#Unemployment Rate in Chicago-Naperville-Elgin, IL-IN-WI (MSA) (CHIC917URN)\n",
    "Unemployment_Rate_Chicago = fred.get_series('CHIC917URN')\n",
    "Unemployment_Rate_Chicago.head"
   ]
  },
  {
   "cell_type": "code",
   "execution_count": null,
   "id": "0cb64f7a",
   "metadata": {},
   "outputs": [],
   "source": []
  }
 ],
 "metadata": {
  "kernelspec": {
   "display_name": "Python 3 (ipykernel)",
   "language": "python",
   "name": "python3"
  },
  "language_info": {
   "codemirror_mode": {
    "name": "ipython",
    "version": 3
   },
   "file_extension": ".py",
   "mimetype": "text/x-python",
   "name": "python",
   "nbconvert_exporter": "python",
   "pygments_lexer": "ipython3",
   "version": "3.9.12"
  }
 },
 "nbformat": 4,
 "nbformat_minor": 5
}
